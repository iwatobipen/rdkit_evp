{
 "cells": [
  {
   "cell_type": "code",
   "execution_count": 2,
   "metadata": {
    "collapsed": true
   },
   "outputs": [],
   "source": [
    "from __future__ import print_function\n",
    "from rdkit import Chem\n",
    "from rdkit.Chem import Draw\n",
    "from rdkit.Chem.Draw import IPythonConsole\n",
    "from rdkit.Chem import AllChem\n",
    "from rdkit.Chem import rdMolTransforms\n",
    "import numpy as np"
   ]
  },
  {
   "cell_type": "code",
   "execution_count": 3,
   "metadata": {
    "collapsed": true
   },
   "outputs": [],
   "source": [
    "sdf = Chem.SDMolSupplier?"
   ]
  },
  {
   "cell_type": "code",
   "execution_count": 16,
   "metadata": {
    "collapsed": false
   },
   "outputs": [
    {
     "name": "stdout",
     "output_type": "stream",
     "text": [
      "N\n"
     ]
    }
   ],
   "source": [
    "sdf = Chem.SDMolSupplier( \"3d_2nd_diamine.sdf\", removeHs=False )\n",
    "mols = [ m for m in sdf ]\n",
    "mol = mols[1]\n",
    "mol.GetSubstructMatch\n",
    "atoms = [atom for atom in mol.GetAtoms()]\n",
    "print(atoms[18].GetSymbol())"
   ]
  },
  {
   "cell_type": "code",
   "execution_count": 39,
   "metadata": {
    "collapsed": false
   },
   "outputs": [],
   "source": [
    "def getevp( mol ):\n",
    "    if mol.GetNumConformers >= 1:\n",
    "        matches = mol.GetSubstructMatches( Chem.MolFromSmarts( \"N[H]\" ) )\n",
    "        print( matches )\n",
    "        conf = mol.GetConformer()\n",
    "        theata = rdMolTransforms.GetDihedralDeg( conf,\n",
    "                                                matches[0][1],\n",
    "                                                matches[0][0],\n",
    "                                                matches[1][0],\n",
    "                                                matches[1][1]  )\n",
    "        temp_phi1 = 180 - rdMolTransforms.GetAngleDeg(conf,\n",
    "                                           matches[1][0],\n",
    "                                           matches[0][0],\n",
    "                                           matches[0][1]\n",
    "                                          )\n",
    "        temp_phi2 = 180 - rdMolTransforms.GetAngleDeg(conf,\n",
    "                                           matches[0][0],\n",
    "                                           matches[1][0],\n",
    "                                           matches[1][1]\n",
    "                                          )\n",
    "        if temp_phi1 >= temp_phi2:\n",
    "            phi1 = temp_phi1\n",
    "            phi2 = temp_phi2\n",
    "        else:\n",
    "            phi1 = temp_phi2\n",
    "            phi2 = temp_phi1\n",
    "            \n",
    "        r = rdMolTransforms.GetBondLength( conf, matches[0][0], matches[1][0] )\n",
    "        return( theata, phi1, phi2, r )\n",
    "    else:\n",
    "        print( \"No conformer!\" )"
   ]
  },
  {
   "cell_type": "code",
   "execution_count": 45,
   "metadata": {
    "collapsed": false
   },
   "outputs": [],
   "source": [
    "def transform_cartegian( theata, phi1, phi2, r ):\n",
    "    x = r * np.sin( theta ) * sin( phi1 ) * sin( phi2 )\n",
    "    y = r * np.sin( theta ) * sin( phi1 ) * cos( phi2 )\n",
    "    z = r * np.sin( theta ) * cos( pshi2 )\n",
    "    t = r * np.cos( theta )\n",
    "    return( x, y, z, t )"
   ]
  },
  {
   "cell_type": "code",
   "execution_count": 52,
   "metadata": {
    "collapsed": true
   },
   "outputs": [],
   "source": [
    "def get_dist( (x1,y1,z1,t1),(x2,y2,z2,t2)  ):\n",
    "    v1 = np.asarray( (x1,y1,z1,t1) )\n",
    "    v2 = np.asarray( (x2,y2,z2,t2) )\n",
    "    d =  np.sqrt(np.square( v1 - v2 ))\n",
    "    return d"
   ]
  },
  {
   "cell_type": "code",
   "execution_count": 47,
   "metadata": {
    "collapsed": false
   },
   "outputs": [
    {
     "data": {
      "text/plain": [
       "array([3, 5, 7, 0])"
      ]
     },
     "execution_count": 47,
     "metadata": {},
     "output_type": "execute_result"
    }
   ],
   "source": [
    "b*b-a*a"
   ]
  },
  {
   "cell_type": "code",
   "execution_count": 49,
   "metadata": {
    "collapsed": false
   },
   "outputs": [
    {
     "data": {
      "text/plain": [
       "array([ 1,  4,  9, 16])"
      ]
     },
     "execution_count": 49,
     "metadata": {},
     "output_type": "execute_result"
    }
   ],
   "source": [
    "np.square(a)"
   ]
  },
  {
   "cell_type": "code",
   "execution_count": 51,
   "metadata": {
    "collapsed": false
   },
   "outputs": [
    {
     "data": {
      "text/plain": [
       "array([ 2.,  2.])"
      ]
     },
     "execution_count": 51,
     "metadata": {},
     "output_type": "execute_result"
    }
   ],
   "source": [
    "np.sqrt([4,4])"
   ]
  },
  {
   "cell_type": "code",
   "execution_count": null,
   "metadata": {
    "collapsed": true
   },
   "outputs": [],
   "source": []
  }
 ],
 "metadata": {
  "kernelspec": {
   "display_name": "Python 2",
   "language": "python",
   "name": "python2"
  },
  "language_info": {
   "codemirror_mode": {
    "name": "ipython",
    "version": 2
   },
   "file_extension": ".py",
   "mimetype": "text/x-python",
   "name": "python",
   "nbconvert_exporter": "python",
   "pygments_lexer": "ipython2",
   "version": "2.7.11"
  }
 },
 "nbformat": 4,
 "nbformat_minor": 0
}
